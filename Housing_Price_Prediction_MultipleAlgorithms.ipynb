{
 "cells": [
  {
   "cell_type": "code",
   "execution_count": 2,
   "id": "50801966",
   "metadata": {},
   "outputs": [],
   "source": [
    "import pandas as pd\n",
    "   \n",
    "HRdf= pd.read_csv(r\"C:\\Users\\Manjula\\Desktop\\DataScienceAssignments\\Csv_filesforDS/houseRegressionStudents (1).csv\")"
   ]
  },
  {
   "cell_type": "code",
   "execution_count": 3,
   "id": "3972bb52",
   "metadata": {},
   "outputs": [
    {
     "data": {
      "text/html": [
       "<div>\n",
       "<style scoped>\n",
       "    .dataframe tbody tr th:only-of-type {\n",
       "        vertical-align: middle;\n",
       "    }\n",
       "\n",
       "    .dataframe tbody tr th {\n",
       "        vertical-align: top;\n",
       "    }\n",
       "\n",
       "    .dataframe thead th {\n",
       "        text-align: right;\n",
       "    }\n",
       "</style>\n",
       "<table border=\"1\" class=\"dataframe\">\n",
       "  <thead>\n",
       "    <tr style=\"text-align: right;\">\n",
       "      <th></th>\n",
       "      <th>Unnamed: 0</th>\n",
       "      <th>Id</th>\n",
       "      <th>MSSubClass</th>\n",
       "      <th>MSZoning</th>\n",
       "      <th>LotArea</th>\n",
       "      <th>Street</th>\n",
       "      <th>LotShape</th>\n",
       "      <th>LandContour</th>\n",
       "      <th>Utilities</th>\n",
       "      <th>LotConfig</th>\n",
       "      <th>...</th>\n",
       "      <th>EnclosedPorch</th>\n",
       "      <th>3SsnPorch</th>\n",
       "      <th>ScreenPorch</th>\n",
       "      <th>PoolArea</th>\n",
       "      <th>MiscVal</th>\n",
       "      <th>MoSold</th>\n",
       "      <th>YrSold</th>\n",
       "      <th>SaleType</th>\n",
       "      <th>SaleCondition</th>\n",
       "      <th>SalePrice</th>\n",
       "    </tr>\n",
       "  </thead>\n",
       "  <tbody>\n",
       "    <tr>\n",
       "      <th>0</th>\n",
       "      <td>0</td>\n",
       "      <td>1</td>\n",
       "      <td>60</td>\n",
       "      <td>RL</td>\n",
       "      <td>8450</td>\n",
       "      <td>Pave</td>\n",
       "      <td>Reg</td>\n",
       "      <td>Lvl</td>\n",
       "      <td>AllPub</td>\n",
       "      <td>Inside</td>\n",
       "      <td>...</td>\n",
       "      <td>0</td>\n",
       "      <td>0</td>\n",
       "      <td>0</td>\n",
       "      <td>0</td>\n",
       "      <td>0</td>\n",
       "      <td>2</td>\n",
       "      <td>2008</td>\n",
       "      <td>WD</td>\n",
       "      <td>Normal</td>\n",
       "      <td>208500</td>\n",
       "    </tr>\n",
       "    <tr>\n",
       "      <th>1</th>\n",
       "      <td>1</td>\n",
       "      <td>2</td>\n",
       "      <td>20</td>\n",
       "      <td>RL</td>\n",
       "      <td>9600</td>\n",
       "      <td>Pave</td>\n",
       "      <td>Reg</td>\n",
       "      <td>Lvl</td>\n",
       "      <td>AllPub</td>\n",
       "      <td>FR2</td>\n",
       "      <td>...</td>\n",
       "      <td>0</td>\n",
       "      <td>0</td>\n",
       "      <td>0</td>\n",
       "      <td>0</td>\n",
       "      <td>0</td>\n",
       "      <td>5</td>\n",
       "      <td>2007</td>\n",
       "      <td>WD</td>\n",
       "      <td>Normal</td>\n",
       "      <td>181500</td>\n",
       "    </tr>\n",
       "    <tr>\n",
       "      <th>2</th>\n",
       "      <td>2</td>\n",
       "      <td>3</td>\n",
       "      <td>60</td>\n",
       "      <td>RL</td>\n",
       "      <td>11250</td>\n",
       "      <td>Pave</td>\n",
       "      <td>IR1</td>\n",
       "      <td>Lvl</td>\n",
       "      <td>AllPub</td>\n",
       "      <td>Inside</td>\n",
       "      <td>...</td>\n",
       "      <td>0</td>\n",
       "      <td>0</td>\n",
       "      <td>0</td>\n",
       "      <td>0</td>\n",
       "      <td>0</td>\n",
       "      <td>9</td>\n",
       "      <td>2008</td>\n",
       "      <td>WD</td>\n",
       "      <td>Normal</td>\n",
       "      <td>223500</td>\n",
       "    </tr>\n",
       "    <tr>\n",
       "      <th>3</th>\n",
       "      <td>3</td>\n",
       "      <td>4</td>\n",
       "      <td>70</td>\n",
       "      <td>RL</td>\n",
       "      <td>9550</td>\n",
       "      <td>Pave</td>\n",
       "      <td>IR1</td>\n",
       "      <td>Lvl</td>\n",
       "      <td>AllPub</td>\n",
       "      <td>Corner</td>\n",
       "      <td>...</td>\n",
       "      <td>272</td>\n",
       "      <td>0</td>\n",
       "      <td>0</td>\n",
       "      <td>0</td>\n",
       "      <td>0</td>\n",
       "      <td>2</td>\n",
       "      <td>2006</td>\n",
       "      <td>WD</td>\n",
       "      <td>Abnorml</td>\n",
       "      <td>140000</td>\n",
       "    </tr>\n",
       "    <tr>\n",
       "      <th>4</th>\n",
       "      <td>4</td>\n",
       "      <td>5</td>\n",
       "      <td>60</td>\n",
       "      <td>RL</td>\n",
       "      <td>14260</td>\n",
       "      <td>Pave</td>\n",
       "      <td>IR1</td>\n",
       "      <td>Lvl</td>\n",
       "      <td>AllPub</td>\n",
       "      <td>FR2</td>\n",
       "      <td>...</td>\n",
       "      <td>0</td>\n",
       "      <td>0</td>\n",
       "      <td>0</td>\n",
       "      <td>0</td>\n",
       "      <td>0</td>\n",
       "      <td>12</td>\n",
       "      <td>2008</td>\n",
       "      <td>WD</td>\n",
       "      <td>Normal</td>\n",
       "      <td>250000</td>\n",
       "    </tr>\n",
       "  </tbody>\n",
       "</table>\n",
       "<p>5 rows × 63 columns</p>\n",
       "</div>"
      ],
      "text/plain": [
       "   Unnamed: 0  Id  MSSubClass MSZoning  LotArea Street LotShape LandContour  \\\n",
       "0           0   1          60       RL     8450   Pave      Reg         Lvl   \n",
       "1           1   2          20       RL     9600   Pave      Reg         Lvl   \n",
       "2           2   3          60       RL    11250   Pave      IR1         Lvl   \n",
       "3           3   4          70       RL     9550   Pave      IR1         Lvl   \n",
       "4           4   5          60       RL    14260   Pave      IR1         Lvl   \n",
       "\n",
       "  Utilities LotConfig  ... EnclosedPorch 3SsnPorch ScreenPorch PoolArea  \\\n",
       "0    AllPub    Inside  ...             0         0           0        0   \n",
       "1    AllPub       FR2  ...             0         0           0        0   \n",
       "2    AllPub    Inside  ...             0         0           0        0   \n",
       "3    AllPub    Corner  ...           272         0           0        0   \n",
       "4    AllPub       FR2  ...             0         0           0        0   \n",
       "\n",
       "  MiscVal MoSold  YrSold  SaleType  SaleCondition  SalePrice  \n",
       "0       0      2    2008        WD         Normal     208500  \n",
       "1       0      5    2007        WD         Normal     181500  \n",
       "2       0      9    2008        WD         Normal     223500  \n",
       "3       0      2    2006        WD        Abnorml     140000  \n",
       "4       0     12    2008        WD         Normal     250000  \n",
       "\n",
       "[5 rows x 63 columns]"
      ]
     },
     "execution_count": 3,
     "metadata": {},
     "output_type": "execute_result"
    }
   ],
   "source": [
    "HRdf.head()"
   ]
  },
  {
   "cell_type": "code",
   "execution_count": 4,
   "id": "62092b51",
   "metadata": {},
   "outputs": [],
   "source": [
    "HRdf.drop(columns=['Unnamed: 0', 'Id'], axis=1, inplace=True)"
   ]
  },
  {
   "cell_type": "code",
   "execution_count": 5,
   "id": "aaf2c809",
   "metadata": {},
   "outputs": [
    {
     "data": {
      "text/html": [
       "<div>\n",
       "<style scoped>\n",
       "    .dataframe tbody tr th:only-of-type {\n",
       "        vertical-align: middle;\n",
       "    }\n",
       "\n",
       "    .dataframe tbody tr th {\n",
       "        vertical-align: top;\n",
       "    }\n",
       "\n",
       "    .dataframe thead th {\n",
       "        text-align: right;\n",
       "    }\n",
       "</style>\n",
       "<table border=\"1\" class=\"dataframe\">\n",
       "  <thead>\n",
       "    <tr style=\"text-align: right;\">\n",
       "      <th></th>\n",
       "      <th>MSSubClass</th>\n",
       "      <th>MSZoning</th>\n",
       "      <th>LotArea</th>\n",
       "      <th>Street</th>\n",
       "      <th>LotShape</th>\n",
       "      <th>LandContour</th>\n",
       "      <th>Utilities</th>\n",
       "      <th>LotConfig</th>\n",
       "      <th>LandSlope</th>\n",
       "      <th>Neighborhood</th>\n",
       "      <th>...</th>\n",
       "      <th>EnclosedPorch</th>\n",
       "      <th>3SsnPorch</th>\n",
       "      <th>ScreenPorch</th>\n",
       "      <th>PoolArea</th>\n",
       "      <th>MiscVal</th>\n",
       "      <th>MoSold</th>\n",
       "      <th>YrSold</th>\n",
       "      <th>SaleType</th>\n",
       "      <th>SaleCondition</th>\n",
       "      <th>SalePrice</th>\n",
       "    </tr>\n",
       "  </thead>\n",
       "  <tbody>\n",
       "    <tr>\n",
       "      <th>0</th>\n",
       "      <td>60</td>\n",
       "      <td>RL</td>\n",
       "      <td>8450</td>\n",
       "      <td>Pave</td>\n",
       "      <td>Reg</td>\n",
       "      <td>Lvl</td>\n",
       "      <td>AllPub</td>\n",
       "      <td>Inside</td>\n",
       "      <td>Gtl</td>\n",
       "      <td>CollgCr</td>\n",
       "      <td>...</td>\n",
       "      <td>0</td>\n",
       "      <td>0</td>\n",
       "      <td>0</td>\n",
       "      <td>0</td>\n",
       "      <td>0</td>\n",
       "      <td>2</td>\n",
       "      <td>2008</td>\n",
       "      <td>WD</td>\n",
       "      <td>Normal</td>\n",
       "      <td>208500</td>\n",
       "    </tr>\n",
       "    <tr>\n",
       "      <th>1</th>\n",
       "      <td>20</td>\n",
       "      <td>RL</td>\n",
       "      <td>9600</td>\n",
       "      <td>Pave</td>\n",
       "      <td>Reg</td>\n",
       "      <td>Lvl</td>\n",
       "      <td>AllPub</td>\n",
       "      <td>FR2</td>\n",
       "      <td>Gtl</td>\n",
       "      <td>Veenker</td>\n",
       "      <td>...</td>\n",
       "      <td>0</td>\n",
       "      <td>0</td>\n",
       "      <td>0</td>\n",
       "      <td>0</td>\n",
       "      <td>0</td>\n",
       "      <td>5</td>\n",
       "      <td>2007</td>\n",
       "      <td>WD</td>\n",
       "      <td>Normal</td>\n",
       "      <td>181500</td>\n",
       "    </tr>\n",
       "  </tbody>\n",
       "</table>\n",
       "<p>2 rows × 61 columns</p>\n",
       "</div>"
      ],
      "text/plain": [
       "   MSSubClass MSZoning  LotArea Street LotShape LandContour Utilities  \\\n",
       "0          60       RL     8450   Pave      Reg         Lvl    AllPub   \n",
       "1          20       RL     9600   Pave      Reg         Lvl    AllPub   \n",
       "\n",
       "  LotConfig LandSlope Neighborhood  ... EnclosedPorch 3SsnPorch ScreenPorch  \\\n",
       "0    Inside       Gtl      CollgCr  ...             0         0           0   \n",
       "1       FR2       Gtl      Veenker  ...             0         0           0   \n",
       "\n",
       "  PoolArea  MiscVal  MoSold  YrSold  SaleType SaleCondition SalePrice  \n",
       "0        0        0       2    2008        WD        Normal    208500  \n",
       "1        0        0       5    2007        WD        Normal    181500  \n",
       "\n",
       "[2 rows x 61 columns]"
      ]
     },
     "execution_count": 5,
     "metadata": {},
     "output_type": "execute_result"
    }
   ],
   "source": [
    "HRdf.head(2)"
   ]
  },
  {
   "cell_type": "code",
   "execution_count": 6,
   "id": "8df6e3f2",
   "metadata": {},
   "outputs": [
    {
     "name": "stdout",
     "output_type": "stream",
     "text": [
      "<class 'pandas.core.frame.DataFrame'>\n",
      "RangeIndex: 1460 entries, 0 to 1459\n",
      "Data columns (total 61 columns):\n",
      " #   Column         Non-Null Count  Dtype \n",
      "---  ------         --------------  ----- \n",
      " 0   MSSubClass     1460 non-null   int64 \n",
      " 1   MSZoning       1460 non-null   object\n",
      " 2   LotArea        1460 non-null   int64 \n",
      " 3   Street         1460 non-null   object\n",
      " 4   LotShape       1460 non-null   object\n",
      " 5   LandContour    1460 non-null   object\n",
      " 6   Utilities      1460 non-null   object\n",
      " 7   LotConfig      1460 non-null   object\n",
      " 8   LandSlope      1460 non-null   object\n",
      " 9   Neighborhood   1460 non-null   object\n",
      " 10  Condition1     1460 non-null   object\n",
      " 11  Condition2     1460 non-null   object\n",
      " 12  BldgType       1460 non-null   object\n",
      " 13  HouseStyle     1460 non-null   object\n",
      " 14  OverallQual    1460 non-null   int64 \n",
      " 15  OverallCond    1460 non-null   int64 \n",
      " 16  YearBuilt      1460 non-null   int64 \n",
      " 17  YearRemodAdd   1460 non-null   int64 \n",
      " 18  RoofStyle      1460 non-null   object\n",
      " 19  RoofMatl       1460 non-null   object\n",
      " 20  Exterior1st    1460 non-null   object\n",
      " 21  Exterior2nd    1460 non-null   object\n",
      " 22  ExterQual      1460 non-null   object\n",
      " 23  ExterCond      1460 non-null   object\n",
      " 24  Foundation     1460 non-null   object\n",
      " 25  BsmtFinSF1     1460 non-null   int64 \n",
      " 26  BsmtFinSF2     1460 non-null   int64 \n",
      " 27  BsmtUnfSF      1460 non-null   int64 \n",
      " 28  TotalBsmtSF    1460 non-null   int64 \n",
      " 29  Heating        1460 non-null   object\n",
      " 30  HeatingQC      1460 non-null   object\n",
      " 31  CentralAir     1460 non-null   object\n",
      " 32  1stFlrSF       1460 non-null   int64 \n",
      " 33  2ndFlrSF       1460 non-null   int64 \n",
      " 34  LowQualFinSF   1460 non-null   int64 \n",
      " 35  GrLivArea      1460 non-null   int64 \n",
      " 36  BsmtFullBath   1460 non-null   int64 \n",
      " 37  BsmtHalfBath   1460 non-null   int64 \n",
      " 38  FullBath       1460 non-null   int64 \n",
      " 39  HalfBath       1460 non-null   int64 \n",
      " 40  BedroomAbvGr   1460 non-null   int64 \n",
      " 41  KitchenAbvGr   1460 non-null   int64 \n",
      " 42  KitchenQual    1460 non-null   object\n",
      " 43  TotRmsAbvGrd   1460 non-null   int64 \n",
      " 44  Functional     1460 non-null   object\n",
      " 45  Fireplaces     1460 non-null   int64 \n",
      " 46  GarageCars     1460 non-null   int64 \n",
      " 47  GarageArea     1460 non-null   int64 \n",
      " 48  PavedDrive     1460 non-null   object\n",
      " 49  WoodDeckSF     1460 non-null   int64 \n",
      " 50  OpenPorchSF    1460 non-null   int64 \n",
      " 51  EnclosedPorch  1460 non-null   int64 \n",
      " 52  3SsnPorch      1460 non-null   int64 \n",
      " 53  ScreenPorch    1460 non-null   int64 \n",
      " 54  PoolArea       1460 non-null   int64 \n",
      " 55  MiscVal        1460 non-null   int64 \n",
      " 56  MoSold         1460 non-null   int64 \n",
      " 57  YrSold         1460 non-null   int64 \n",
      " 58  SaleType       1460 non-null   object\n",
      " 59  SaleCondition  1460 non-null   object\n",
      " 60  SalePrice      1460 non-null   int64 \n",
      "dtypes: int64(34), object(27)\n",
      "memory usage: 695.9+ KB\n"
     ]
    }
   ],
   "source": [
    "HRdf.info()"
   ]
  },
  {
   "cell_type": "code",
   "execution_count": 7,
   "id": "8c1d0fb4",
   "metadata": {},
   "outputs": [],
   "source": [
    "# Since there are columns with int and object type, will segregate them first\n",
    "numcol= HRdf.select_dtypes(['int64'])\n",
    "objcol= HRdf.select_dtypes(['O'])"
   ]
  },
  {
   "cell_type": "code",
   "execution_count": 8,
   "id": "d4b42d07",
   "metadata": {},
   "outputs": [
    {
     "data": {
      "text/plain": [
       "((1460, 34), (1460, 27))"
      ]
     },
     "execution_count": 8,
     "metadata": {},
     "output_type": "execute_result"
    }
   ],
   "source": [
    "numcol.shape, objcol.shape"
   ]
  },
  {
   "cell_type": "code",
   "execution_count": 9,
   "id": "92b0a305",
   "metadata": {},
   "outputs": [
    {
     "data": {
      "text/html": [
       "<div>\n",
       "<style scoped>\n",
       "    .dataframe tbody tr th:only-of-type {\n",
       "        vertical-align: middle;\n",
       "    }\n",
       "\n",
       "    .dataframe tbody tr th {\n",
       "        vertical-align: top;\n",
       "    }\n",
       "\n",
       "    .dataframe thead th {\n",
       "        text-align: right;\n",
       "    }\n",
       "</style>\n",
       "<table border=\"1\" class=\"dataframe\">\n",
       "  <thead>\n",
       "    <tr style=\"text-align: right;\">\n",
       "      <th></th>\n",
       "      <th>MSZoning_C (all)</th>\n",
       "      <th>MSZoning_FV</th>\n",
       "      <th>MSZoning_RH</th>\n",
       "      <th>MSZoning_RL</th>\n",
       "      <th>MSZoning_RM</th>\n",
       "      <th>Street_Grvl</th>\n",
       "      <th>Street_Pave</th>\n",
       "      <th>LotShape_IR1</th>\n",
       "      <th>LotShape_IR2</th>\n",
       "      <th>LotShape_IR3</th>\n",
       "      <th>...</th>\n",
       "      <th>SaleType_ConLw</th>\n",
       "      <th>SaleType_New</th>\n",
       "      <th>SaleType_Oth</th>\n",
       "      <th>SaleType_WD</th>\n",
       "      <th>SaleCondition_Abnorml</th>\n",
       "      <th>SaleCondition_AdjLand</th>\n",
       "      <th>SaleCondition_Alloca</th>\n",
       "      <th>SaleCondition_Family</th>\n",
       "      <th>SaleCondition_Normal</th>\n",
       "      <th>SaleCondition_Partial</th>\n",
       "    </tr>\n",
       "  </thead>\n",
       "  <tbody>\n",
       "    <tr>\n",
       "      <th>0</th>\n",
       "      <td>0</td>\n",
       "      <td>0</td>\n",
       "      <td>0</td>\n",
       "      <td>1</td>\n",
       "      <td>0</td>\n",
       "      <td>0</td>\n",
       "      <td>1</td>\n",
       "      <td>0</td>\n",
       "      <td>0</td>\n",
       "      <td>0</td>\n",
       "      <td>...</td>\n",
       "      <td>0</td>\n",
       "      <td>0</td>\n",
       "      <td>0</td>\n",
       "      <td>1</td>\n",
       "      <td>0</td>\n",
       "      <td>0</td>\n",
       "      <td>0</td>\n",
       "      <td>0</td>\n",
       "      <td>1</td>\n",
       "      <td>0</td>\n",
       "    </tr>\n",
       "    <tr>\n",
       "      <th>1</th>\n",
       "      <td>0</td>\n",
       "      <td>0</td>\n",
       "      <td>0</td>\n",
       "      <td>1</td>\n",
       "      <td>0</td>\n",
       "      <td>0</td>\n",
       "      <td>1</td>\n",
       "      <td>0</td>\n",
       "      <td>0</td>\n",
       "      <td>0</td>\n",
       "      <td>...</td>\n",
       "      <td>0</td>\n",
       "      <td>0</td>\n",
       "      <td>0</td>\n",
       "      <td>1</td>\n",
       "      <td>0</td>\n",
       "      <td>0</td>\n",
       "      <td>0</td>\n",
       "      <td>0</td>\n",
       "      <td>1</td>\n",
       "      <td>0</td>\n",
       "    </tr>\n",
       "    <tr>\n",
       "      <th>2</th>\n",
       "      <td>0</td>\n",
       "      <td>0</td>\n",
       "      <td>0</td>\n",
       "      <td>1</td>\n",
       "      <td>0</td>\n",
       "      <td>0</td>\n",
       "      <td>1</td>\n",
       "      <td>1</td>\n",
       "      <td>0</td>\n",
       "      <td>0</td>\n",
       "      <td>...</td>\n",
       "      <td>0</td>\n",
       "      <td>0</td>\n",
       "      <td>0</td>\n",
       "      <td>1</td>\n",
       "      <td>0</td>\n",
       "      <td>0</td>\n",
       "      <td>0</td>\n",
       "      <td>0</td>\n",
       "      <td>1</td>\n",
       "      <td>0</td>\n",
       "    </tr>\n",
       "    <tr>\n",
       "      <th>3</th>\n",
       "      <td>0</td>\n",
       "      <td>0</td>\n",
       "      <td>0</td>\n",
       "      <td>1</td>\n",
       "      <td>0</td>\n",
       "      <td>0</td>\n",
       "      <td>1</td>\n",
       "      <td>1</td>\n",
       "      <td>0</td>\n",
       "      <td>0</td>\n",
       "      <td>...</td>\n",
       "      <td>0</td>\n",
       "      <td>0</td>\n",
       "      <td>0</td>\n",
       "      <td>1</td>\n",
       "      <td>1</td>\n",
       "      <td>0</td>\n",
       "      <td>0</td>\n",
       "      <td>0</td>\n",
       "      <td>0</td>\n",
       "      <td>0</td>\n",
       "    </tr>\n",
       "    <tr>\n",
       "      <th>4</th>\n",
       "      <td>0</td>\n",
       "      <td>0</td>\n",
       "      <td>0</td>\n",
       "      <td>1</td>\n",
       "      <td>0</td>\n",
       "      <td>0</td>\n",
       "      <td>1</td>\n",
       "      <td>1</td>\n",
       "      <td>0</td>\n",
       "      <td>0</td>\n",
       "      <td>...</td>\n",
       "      <td>0</td>\n",
       "      <td>0</td>\n",
       "      <td>0</td>\n",
       "      <td>1</td>\n",
       "      <td>0</td>\n",
       "      <td>0</td>\n",
       "      <td>0</td>\n",
       "      <td>0</td>\n",
       "      <td>1</td>\n",
       "      <td>0</td>\n",
       "    </tr>\n",
       "  </tbody>\n",
       "</table>\n",
       "<p>5 rows × 182 columns</p>\n",
       "</div>"
      ],
      "text/plain": [
       "   MSZoning_C (all)  MSZoning_FV  MSZoning_RH  MSZoning_RL  MSZoning_RM  \\\n",
       "0                 0            0            0            1            0   \n",
       "1                 0            0            0            1            0   \n",
       "2                 0            0            0            1            0   \n",
       "3                 0            0            0            1            0   \n",
       "4                 0            0            0            1            0   \n",
       "\n",
       "   Street_Grvl  Street_Pave  LotShape_IR1  LotShape_IR2  LotShape_IR3  ...  \\\n",
       "0            0            1             0             0             0  ...   \n",
       "1            0            1             0             0             0  ...   \n",
       "2            0            1             1             0             0  ...   \n",
       "3            0            1             1             0             0  ...   \n",
       "4            0            1             1             0             0  ...   \n",
       "\n",
       "   SaleType_ConLw  SaleType_New  SaleType_Oth  SaleType_WD  \\\n",
       "0               0             0             0            1   \n",
       "1               0             0             0            1   \n",
       "2               0             0             0            1   \n",
       "3               0             0             0            1   \n",
       "4               0             0             0            1   \n",
       "\n",
       "   SaleCondition_Abnorml  SaleCondition_AdjLand  SaleCondition_Alloca  \\\n",
       "0                      0                      0                     0   \n",
       "1                      0                      0                     0   \n",
       "2                      0                      0                     0   \n",
       "3                      1                      0                     0   \n",
       "4                      0                      0                     0   \n",
       "\n",
       "   SaleCondition_Family  SaleCondition_Normal  SaleCondition_Partial  \n",
       "0                     0                     1                      0  \n",
       "1                     0                     1                      0  \n",
       "2                     0                     1                      0  \n",
       "3                     0                     0                      0  \n",
       "4                     0                     1                      0  \n",
       "\n",
       "[5 rows x 182 columns]"
      ]
     },
     "execution_count": 9,
     "metadata": {},
     "output_type": "execute_result"
    }
   ],
   "source": [
    "# since there are too many(27 cols) columns with oject type, for conversion i will apply get_dummies function\n",
    "objcol_toNum= pd.get_dummies(objcol)\n",
    "objcol_toNum.head()\n"
   ]
  },
  {
   "cell_type": "code",
   "execution_count": 10,
   "id": "7db91cb2",
   "metadata": {},
   "outputs": [
    {
     "name": "stdout",
     "output_type": "stream",
     "text": [
      "<class 'pandas.core.frame.DataFrame'>\n",
      "RangeIndex: 1460 entries, 0 to 1459\n",
      "Columns: 182 entries, MSZoning_C (all) to SaleCondition_Partial\n",
      "dtypes: uint8(182)\n",
      "memory usage: 259.6 KB\n"
     ]
    }
   ],
   "source": [
    "objcol_toNum.info()    # we can here see that all dtypes is been converted to int values"
   ]
  },
  {
   "cell_type": "code",
   "execution_count": 11,
   "id": "17e0530c",
   "metadata": {},
   "outputs": [
    {
     "name": "stdout",
     "output_type": "stream",
     "text": [
      "<class 'pandas.core.frame.DataFrame'>\n",
      "RangeIndex: 1460 entries, 0 to 1459\n",
      "Columns: 216 entries, MSSubClass to SaleCondition_Partial\n",
      "dtypes: int64(34), uint8(182)\n",
      "memory usage: 647.4 KB\n"
     ]
    }
   ],
   "source": [
    "# now since we have all columns with int dtype lets concatenate with dtypes of int columns and get our newdf\n",
    "newHRdf= pd.concat([numcol, objcol_toNum], axis=1)\n",
    "newHRdf.info()"
   ]
  },
  {
   "cell_type": "code",
   "execution_count": 12,
   "id": "7ac699d9",
   "metadata": {},
   "outputs": [
    {
     "data": {
      "text/html": [
       "<div>\n",
       "<style scoped>\n",
       "    .dataframe tbody tr th:only-of-type {\n",
       "        vertical-align: middle;\n",
       "    }\n",
       "\n",
       "    .dataframe tbody tr th {\n",
       "        vertical-align: top;\n",
       "    }\n",
       "\n",
       "    .dataframe thead th {\n",
       "        text-align: right;\n",
       "    }\n",
       "</style>\n",
       "<table border=\"1\" class=\"dataframe\">\n",
       "  <thead>\n",
       "    <tr style=\"text-align: right;\">\n",
       "      <th></th>\n",
       "      <th>MSSubClass</th>\n",
       "      <th>LotArea</th>\n",
       "      <th>OverallQual</th>\n",
       "      <th>OverallCond</th>\n",
       "      <th>YearBuilt</th>\n",
       "      <th>YearRemodAdd</th>\n",
       "      <th>BsmtFinSF1</th>\n",
       "      <th>BsmtFinSF2</th>\n",
       "      <th>BsmtUnfSF</th>\n",
       "      <th>TotalBsmtSF</th>\n",
       "      <th>...</th>\n",
       "      <th>SaleType_ConLw</th>\n",
       "      <th>SaleType_New</th>\n",
       "      <th>SaleType_Oth</th>\n",
       "      <th>SaleType_WD</th>\n",
       "      <th>SaleCondition_Abnorml</th>\n",
       "      <th>SaleCondition_AdjLand</th>\n",
       "      <th>SaleCondition_Alloca</th>\n",
       "      <th>SaleCondition_Family</th>\n",
       "      <th>SaleCondition_Normal</th>\n",
       "      <th>SaleCondition_Partial</th>\n",
       "    </tr>\n",
       "  </thead>\n",
       "  <tbody>\n",
       "    <tr>\n",
       "      <th>1458</th>\n",
       "      <td>20</td>\n",
       "      <td>9717</td>\n",
       "      <td>5</td>\n",
       "      <td>6</td>\n",
       "      <td>1950</td>\n",
       "      <td>1996</td>\n",
       "      <td>49</td>\n",
       "      <td>1029</td>\n",
       "      <td>0</td>\n",
       "      <td>1078</td>\n",
       "      <td>...</td>\n",
       "      <td>0</td>\n",
       "      <td>0</td>\n",
       "      <td>0</td>\n",
       "      <td>1</td>\n",
       "      <td>0</td>\n",
       "      <td>0</td>\n",
       "      <td>0</td>\n",
       "      <td>0</td>\n",
       "      <td>1</td>\n",
       "      <td>0</td>\n",
       "    </tr>\n",
       "    <tr>\n",
       "      <th>1459</th>\n",
       "      <td>20</td>\n",
       "      <td>9937</td>\n",
       "      <td>5</td>\n",
       "      <td>6</td>\n",
       "      <td>1965</td>\n",
       "      <td>1965</td>\n",
       "      <td>830</td>\n",
       "      <td>290</td>\n",
       "      <td>136</td>\n",
       "      <td>1256</td>\n",
       "      <td>...</td>\n",
       "      <td>0</td>\n",
       "      <td>0</td>\n",
       "      <td>0</td>\n",
       "      <td>1</td>\n",
       "      <td>0</td>\n",
       "      <td>0</td>\n",
       "      <td>0</td>\n",
       "      <td>0</td>\n",
       "      <td>1</td>\n",
       "      <td>0</td>\n",
       "    </tr>\n",
       "  </tbody>\n",
       "</table>\n",
       "<p>2 rows × 216 columns</p>\n",
       "</div>"
      ],
      "text/plain": [
       "      MSSubClass  LotArea  OverallQual  OverallCond  YearBuilt  YearRemodAdd  \\\n",
       "1458          20     9717            5            6       1950          1996   \n",
       "1459          20     9937            5            6       1965          1965   \n",
       "\n",
       "      BsmtFinSF1  BsmtFinSF2  BsmtUnfSF  TotalBsmtSF  ...  SaleType_ConLw  \\\n",
       "1458          49        1029          0         1078  ...               0   \n",
       "1459         830         290        136         1256  ...               0   \n",
       "\n",
       "      SaleType_New  SaleType_Oth  SaleType_WD  SaleCondition_Abnorml  \\\n",
       "1458             0             0            1                      0   \n",
       "1459             0             0            1                      0   \n",
       "\n",
       "      SaleCondition_AdjLand  SaleCondition_Alloca  SaleCondition_Family  \\\n",
       "1458                      0                     0                     0   \n",
       "1459                      0                     0                     0   \n",
       "\n",
       "      SaleCondition_Normal  SaleCondition_Partial  \n",
       "1458                     1                      0  \n",
       "1459                     1                      0  \n",
       "\n",
       "[2 rows x 216 columns]"
      ]
     },
     "execution_count": 12,
     "metadata": {},
     "output_type": "execute_result"
    }
   ],
   "source": [
    "newHRdf.tail(2)"
   ]
  },
  {
   "cell_type": "code",
   "execution_count": 13,
   "id": "abdcadd8",
   "metadata": {},
   "outputs": [
    {
     "data": {
      "text/plain": [
       "Index(['MSSubClass', 'LotArea', 'OverallQual', 'OverallCond', 'YearBuilt',\n",
       "       'YearRemodAdd', 'BsmtFinSF1', 'BsmtFinSF2', 'BsmtUnfSF', 'TotalBsmtSF',\n",
       "       ...\n",
       "       'SaleType_ConLw', 'SaleType_New', 'SaleType_Oth', 'SaleType_WD',\n",
       "       'SaleCondition_Abnorml', 'SaleCondition_AdjLand',\n",
       "       'SaleCondition_Alloca', 'SaleCondition_Family', 'SaleCondition_Normal',\n",
       "       'SaleCondition_Partial'],\n",
       "      dtype='object', length=216)"
      ]
     },
     "execution_count": 13,
     "metadata": {},
     "output_type": "execute_result"
    }
   ],
   "source": [
    "newHRdf.columns"
   ]
  },
  {
   "cell_type": "code",
   "execution_count": 14,
   "id": "c576557d",
   "metadata": {},
   "outputs": [
    {
     "data": {
      "text/plain": [
       "MSSubClass               0\n",
       "LotArea                  0\n",
       "OverallQual              0\n",
       "OverallCond              0\n",
       "YearBuilt                0\n",
       "                        ..\n",
       "SaleCondition_AdjLand    0\n",
       "SaleCondition_Alloca     0\n",
       "SaleCondition_Family     0\n",
       "SaleCondition_Normal     0\n",
       "SaleCondition_Partial    0\n",
       "Length: 216, dtype: int64"
      ]
     },
     "execution_count": 14,
     "metadata": {},
     "output_type": "execute_result"
    }
   ],
   "source": [
    "newHRdf.isnull().sum()"
   ]
  },
  {
   "cell_type": "code",
   "execution_count": 15,
   "id": "b0c1837a",
   "metadata": {},
   "outputs": [],
   "source": [
    "#  in our new df we have 216 columns. lets check the correlation factor and get only the good columns needed for further study\n",
    "# will first divide X and Y variables\n",
    "\n",
    "X= newHRdf.drop(['SalePrice'], axis=1)\n",
    "Y= newHRdf['SalePrice']"
   ]
  },
  {
   "cell_type": "code",
   "execution_count": 16,
   "id": "7d18f09e",
   "metadata": {},
   "outputs": [
    {
     "data": {
      "text/plain": [
       "((1460, 215), (1460,))"
      ]
     },
     "execution_count": 16,
     "metadata": {},
     "output_type": "execute_result"
    }
   ],
   "source": [
    "X.shape, Y.shape"
   ]
  },
  {
   "cell_type": "code",
   "execution_count": 17,
   "id": "8ae2591b",
   "metadata": {},
   "outputs": [
    {
     "data": {
      "text/html": [
       "<div>\n",
       "<style scoped>\n",
       "    .dataframe tbody tr th:only-of-type {\n",
       "        vertical-align: middle;\n",
       "    }\n",
       "\n",
       "    .dataframe tbody tr th {\n",
       "        vertical-align: top;\n",
       "    }\n",
       "\n",
       "    .dataframe thead th {\n",
       "        text-align: right;\n",
       "    }\n",
       "</style>\n",
       "<table border=\"1\" class=\"dataframe\">\n",
       "  <thead>\n",
       "    <tr style=\"text-align: right;\">\n",
       "      <th></th>\n",
       "      <th>MSSubClass</th>\n",
       "      <th>LotArea</th>\n",
       "      <th>OverallQual</th>\n",
       "      <th>OverallCond</th>\n",
       "      <th>YearBuilt</th>\n",
       "      <th>YearRemodAdd</th>\n",
       "      <th>BsmtFinSF1</th>\n",
       "      <th>BsmtFinSF2</th>\n",
       "      <th>BsmtUnfSF</th>\n",
       "      <th>TotalBsmtSF</th>\n",
       "      <th>...</th>\n",
       "      <th>SaleType_ConLw</th>\n",
       "      <th>SaleType_New</th>\n",
       "      <th>SaleType_Oth</th>\n",
       "      <th>SaleType_WD</th>\n",
       "      <th>SaleCondition_Abnorml</th>\n",
       "      <th>SaleCondition_AdjLand</th>\n",
       "      <th>SaleCondition_Alloca</th>\n",
       "      <th>SaleCondition_Family</th>\n",
       "      <th>SaleCondition_Normal</th>\n",
       "      <th>SaleCondition_Partial</th>\n",
       "    </tr>\n",
       "  </thead>\n",
       "  <tbody>\n",
       "    <tr>\n",
       "      <th>MSSubClass</th>\n",
       "      <td>1.000000</td>\n",
       "      <td>-0.139781</td>\n",
       "      <td>0.032628</td>\n",
       "      <td>-0.059316</td>\n",
       "      <td>0.027850</td>\n",
       "      <td>0.040581</td>\n",
       "      <td>-0.069836</td>\n",
       "      <td>-0.065649</td>\n",
       "      <td>-0.140759</td>\n",
       "      <td>-0.238518</td>\n",
       "      <td>...</td>\n",
       "      <td>0.014005</td>\n",
       "      <td>-0.045156</td>\n",
       "      <td>-0.014555</td>\n",
       "      <td>0.026359</td>\n",
       "      <td>0.005003</td>\n",
       "      <td>0.016241</td>\n",
       "      <td>0.030002</td>\n",
       "      <td>0.000983</td>\n",
       "      <td>0.024359</td>\n",
       "      <td>-0.051068</td>\n",
       "    </tr>\n",
       "    <tr>\n",
       "      <th>LotArea</th>\n",
       "      <td>-0.139781</td>\n",
       "      <td>1.000000</td>\n",
       "      <td>0.105806</td>\n",
       "      <td>-0.005636</td>\n",
       "      <td>0.014228</td>\n",
       "      <td>0.013788</td>\n",
       "      <td>0.214103</td>\n",
       "      <td>0.111170</td>\n",
       "      <td>-0.002618</td>\n",
       "      <td>0.260833</td>\n",
       "      <td>...</td>\n",
       "      <td>-0.015040</td>\n",
       "      <td>0.020039</td>\n",
       "      <td>-0.005722</td>\n",
       "      <td>-0.002292</td>\n",
       "      <td>-0.029126</td>\n",
       "      <td>-0.013208</td>\n",
       "      <td>0.008966</td>\n",
       "      <td>-0.010781</td>\n",
       "      <td>0.005711</td>\n",
       "      <td>0.022635</td>\n",
       "    </tr>\n",
       "    <tr>\n",
       "      <th>OverallQual</th>\n",
       "      <td>0.032628</td>\n",
       "      <td>0.105806</td>\n",
       "      <td>1.000000</td>\n",
       "      <td>-0.091932</td>\n",
       "      <td>0.572323</td>\n",
       "      <td>0.550684</td>\n",
       "      <td>0.239666</td>\n",
       "      <td>-0.059119</td>\n",
       "      <td>0.308159</td>\n",
       "      <td>0.537808</td>\n",
       "      <td>...</td>\n",
       "      <td>-0.021172</td>\n",
       "      <td>0.327412</td>\n",
       "      <td>-0.057962</td>\n",
       "      <td>-0.225013</td>\n",
       "      <td>-0.103535</td>\n",
       "      <td>-0.041677</td>\n",
       "      <td>-0.044950</td>\n",
       "      <td>-0.025515</td>\n",
       "      <td>-0.143282</td>\n",
       "      <td>0.323295</td>\n",
       "    </tr>\n",
       "    <tr>\n",
       "      <th>OverallCond</th>\n",
       "      <td>-0.059316</td>\n",
       "      <td>-0.005636</td>\n",
       "      <td>-0.091932</td>\n",
       "      <td>1.000000</td>\n",
       "      <td>-0.375983</td>\n",
       "      <td>0.073741</td>\n",
       "      <td>-0.046231</td>\n",
       "      <td>0.040229</td>\n",
       "      <td>-0.136841</td>\n",
       "      <td>-0.171098</td>\n",
       "      <td>...</td>\n",
       "      <td>-0.019779</td>\n",
       "      <td>-0.156175</td>\n",
       "      <td>-0.050663</td>\n",
       "      <td>0.163684</td>\n",
       "      <td>-0.046367</td>\n",
       "      <td>-0.038888</td>\n",
       "      <td>-0.033444</td>\n",
       "      <td>-0.023873</td>\n",
       "      <td>0.161642</td>\n",
       "      <td>-0.151659</td>\n",
       "    </tr>\n",
       "    <tr>\n",
       "      <th>YearBuilt</th>\n",
       "      <td>0.027850</td>\n",
       "      <td>0.014228</td>\n",
       "      <td>0.572323</td>\n",
       "      <td>-0.375983</td>\n",
       "      <td>1.000000</td>\n",
       "      <td>0.592855</td>\n",
       "      <td>0.249503</td>\n",
       "      <td>-0.049107</td>\n",
       "      <td>0.149040</td>\n",
       "      <td>0.391452</td>\n",
       "      <td>...</td>\n",
       "      <td>-0.023431</td>\n",
       "      <td>0.346954</td>\n",
       "      <td>0.012122</td>\n",
       "      <td>-0.238463</td>\n",
       "      <td>-0.110233</td>\n",
       "      <td>-0.045601</td>\n",
       "      <td>-0.010104</td>\n",
       "      <td>-0.035785</td>\n",
       "      <td>-0.158427</td>\n",
       "      <td>0.343895</td>\n",
       "    </tr>\n",
       "    <tr>\n",
       "      <th>...</th>\n",
       "      <td>...</td>\n",
       "      <td>...</td>\n",
       "      <td>...</td>\n",
       "      <td>...</td>\n",
       "      <td>...</td>\n",
       "      <td>...</td>\n",
       "      <td>...</td>\n",
       "      <td>...</td>\n",
       "      <td>...</td>\n",
       "      <td>...</td>\n",
       "      <td>...</td>\n",
       "      <td>...</td>\n",
       "      <td>...</td>\n",
       "      <td>...</td>\n",
       "      <td>...</td>\n",
       "      <td>...</td>\n",
       "      <td>...</td>\n",
       "      <td>...</td>\n",
       "      <td>...</td>\n",
       "      <td>...</td>\n",
       "      <td>...</td>\n",
       "    </tr>\n",
       "    <tr>\n",
       "      <th>SaleCondition_AdjLand</th>\n",
       "      <td>0.016241</td>\n",
       "      <td>-0.013208</td>\n",
       "      <td>-0.041677</td>\n",
       "      <td>-0.038888</td>\n",
       "      <td>-0.045601</td>\n",
       "      <td>-0.040294</td>\n",
       "      <td>-0.014874</td>\n",
       "      <td>-0.015130</td>\n",
       "      <td>-0.034618</td>\n",
       "      <td>-0.055895</td>\n",
       "      <td>...</td>\n",
       "      <td>-0.003073</td>\n",
       "      <td>-0.015827</td>\n",
       "      <td>-0.002378</td>\n",
       "      <td>0.020457</td>\n",
       "      <td>-0.014289</td>\n",
       "      <td>1.000000</td>\n",
       "      <td>-0.004772</td>\n",
       "      <td>-0.006177</td>\n",
       "      <td>-0.112080</td>\n",
       "      <td>-0.016038</td>\n",
       "    </tr>\n",
       "    <tr>\n",
       "      <th>SaleCondition_Alloca</th>\n",
       "      <td>0.030002</td>\n",
       "      <td>0.008966</td>\n",
       "      <td>-0.044950</td>\n",
       "      <td>-0.033444</td>\n",
       "      <td>-0.010104</td>\n",
       "      <td>-0.020727</td>\n",
       "      <td>0.021369</td>\n",
       "      <td>-0.026277</td>\n",
       "      <td>-0.059130</td>\n",
       "      <td>-0.047002</td>\n",
       "      <td>...</td>\n",
       "      <td>-0.005337</td>\n",
       "      <td>-0.027489</td>\n",
       "      <td>-0.004131</td>\n",
       "      <td>0.035530</td>\n",
       "      <td>-0.024817</td>\n",
       "      <td>-0.004772</td>\n",
       "      <td>1.000000</td>\n",
       "      <td>-0.010729</td>\n",
       "      <td>-0.194663</td>\n",
       "      <td>-0.027856</td>\n",
       "    </tr>\n",
       "    <tr>\n",
       "      <th>SaleCondition_Family</th>\n",
       "      <td>0.000983</td>\n",
       "      <td>-0.010781</td>\n",
       "      <td>-0.025515</td>\n",
       "      <td>-0.023873</td>\n",
       "      <td>-0.035785</td>\n",
       "      <td>-0.048056</td>\n",
       "      <td>0.000765</td>\n",
       "      <td>-0.007929</td>\n",
       "      <td>0.021534</td>\n",
       "      <td>0.019569</td>\n",
       "      <td>...</td>\n",
       "      <td>-0.006909</td>\n",
       "      <td>-0.035587</td>\n",
       "      <td>-0.005348</td>\n",
       "      <td>0.028599</td>\n",
       "      <td>-0.032128</td>\n",
       "      <td>-0.006177</td>\n",
       "      <td>-0.010729</td>\n",
       "      <td>1.000000</td>\n",
       "      <td>-0.252006</td>\n",
       "      <td>-0.036062</td>\n",
       "    </tr>\n",
       "    <tr>\n",
       "      <th>SaleCondition_Normal</th>\n",
       "      <td>0.024359</td>\n",
       "      <td>0.005711</td>\n",
       "      <td>-0.143282</td>\n",
       "      <td>0.161642</td>\n",
       "      <td>-0.158427</td>\n",
       "      <td>-0.120577</td>\n",
       "      <td>-0.019560</td>\n",
       "      <td>0.041207</td>\n",
       "      <td>-0.153930</td>\n",
       "      <td>-0.160222</td>\n",
       "      <td>...</td>\n",
       "      <td>0.027414</td>\n",
       "      <td>-0.645698</td>\n",
       "      <td>-0.097031</td>\n",
       "      <td>0.634322</td>\n",
       "      <td>-0.582947</td>\n",
       "      <td>-0.112080</td>\n",
       "      <td>-0.194663</td>\n",
       "      <td>-0.252006</td>\n",
       "      <td>1.000000</td>\n",
       "      <td>-0.654323</td>\n",
       "    </tr>\n",
       "    <tr>\n",
       "      <th>SaleCondition_Partial</th>\n",
       "      <td>-0.051068</td>\n",
       "      <td>0.022635</td>\n",
       "      <td>0.323295</td>\n",
       "      <td>-0.151659</td>\n",
       "      <td>0.343895</td>\n",
       "      <td>0.322837</td>\n",
       "      <td>0.044912</td>\n",
       "      <td>-0.085761</td>\n",
       "      <td>0.249315</td>\n",
       "      <td>0.266268</td>\n",
       "      <td>...</td>\n",
       "      <td>-0.017938</td>\n",
       "      <td>0.986819</td>\n",
       "      <td>-0.013885</td>\n",
       "      <td>-0.769559</td>\n",
       "      <td>-0.083419</td>\n",
       "      <td>-0.016038</td>\n",
       "      <td>-0.027856</td>\n",
       "      <td>-0.036062</td>\n",
       "      <td>-0.654323</td>\n",
       "      <td>1.000000</td>\n",
       "    </tr>\n",
       "  </tbody>\n",
       "</table>\n",
       "<p>215 rows × 215 columns</p>\n",
       "</div>"
      ],
      "text/plain": [
       "                       MSSubClass   LotArea  OverallQual  OverallCond  \\\n",
       "MSSubClass               1.000000 -0.139781     0.032628    -0.059316   \n",
       "LotArea                 -0.139781  1.000000     0.105806    -0.005636   \n",
       "OverallQual              0.032628  0.105806     1.000000    -0.091932   \n",
       "OverallCond             -0.059316 -0.005636    -0.091932     1.000000   \n",
       "YearBuilt                0.027850  0.014228     0.572323    -0.375983   \n",
       "...                           ...       ...          ...          ...   \n",
       "SaleCondition_AdjLand    0.016241 -0.013208    -0.041677    -0.038888   \n",
       "SaleCondition_Alloca     0.030002  0.008966    -0.044950    -0.033444   \n",
       "SaleCondition_Family     0.000983 -0.010781    -0.025515    -0.023873   \n",
       "SaleCondition_Normal     0.024359  0.005711    -0.143282     0.161642   \n",
       "SaleCondition_Partial   -0.051068  0.022635     0.323295    -0.151659   \n",
       "\n",
       "                       YearBuilt  YearRemodAdd  BsmtFinSF1  BsmtFinSF2  \\\n",
       "MSSubClass              0.027850      0.040581   -0.069836   -0.065649   \n",
       "LotArea                 0.014228      0.013788    0.214103    0.111170   \n",
       "OverallQual             0.572323      0.550684    0.239666   -0.059119   \n",
       "OverallCond            -0.375983      0.073741   -0.046231    0.040229   \n",
       "YearBuilt               1.000000      0.592855    0.249503   -0.049107   \n",
       "...                          ...           ...         ...         ...   \n",
       "SaleCondition_AdjLand  -0.045601     -0.040294   -0.014874   -0.015130   \n",
       "SaleCondition_Alloca   -0.010104     -0.020727    0.021369   -0.026277   \n",
       "SaleCondition_Family   -0.035785     -0.048056    0.000765   -0.007929   \n",
       "SaleCondition_Normal   -0.158427     -0.120577   -0.019560    0.041207   \n",
       "SaleCondition_Partial   0.343895      0.322837    0.044912   -0.085761   \n",
       "\n",
       "                       BsmtUnfSF  TotalBsmtSF  ...  SaleType_ConLw  \\\n",
       "MSSubClass             -0.140759    -0.238518  ...        0.014005   \n",
       "LotArea                -0.002618     0.260833  ...       -0.015040   \n",
       "OverallQual             0.308159     0.537808  ...       -0.021172   \n",
       "OverallCond            -0.136841    -0.171098  ...       -0.019779   \n",
       "YearBuilt               0.149040     0.391452  ...       -0.023431   \n",
       "...                          ...          ...  ...             ...   \n",
       "SaleCondition_AdjLand  -0.034618    -0.055895  ...       -0.003073   \n",
       "SaleCondition_Alloca   -0.059130    -0.047002  ...       -0.005337   \n",
       "SaleCondition_Family    0.021534     0.019569  ...       -0.006909   \n",
       "SaleCondition_Normal   -0.153930    -0.160222  ...        0.027414   \n",
       "SaleCondition_Partial   0.249315     0.266268  ...       -0.017938   \n",
       "\n",
       "                       SaleType_New  SaleType_Oth  SaleType_WD  \\\n",
       "MSSubClass                -0.045156     -0.014555     0.026359   \n",
       "LotArea                    0.020039     -0.005722    -0.002292   \n",
       "OverallQual                0.327412     -0.057962    -0.225013   \n",
       "OverallCond               -0.156175     -0.050663     0.163684   \n",
       "YearBuilt                  0.346954      0.012122    -0.238463   \n",
       "...                             ...           ...          ...   \n",
       "SaleCondition_AdjLand     -0.015827     -0.002378     0.020457   \n",
       "SaleCondition_Alloca      -0.027489     -0.004131     0.035530   \n",
       "SaleCondition_Family      -0.035587     -0.005348     0.028599   \n",
       "SaleCondition_Normal      -0.645698     -0.097031     0.634322   \n",
       "SaleCondition_Partial      0.986819     -0.013885    -0.769559   \n",
       "\n",
       "                       SaleCondition_Abnorml  SaleCondition_AdjLand  \\\n",
       "MSSubClass                          0.005003               0.016241   \n",
       "LotArea                            -0.029126              -0.013208   \n",
       "OverallQual                        -0.103535              -0.041677   \n",
       "OverallCond                        -0.046367              -0.038888   \n",
       "YearBuilt                          -0.110233              -0.045601   \n",
       "...                                      ...                    ...   \n",
       "SaleCondition_AdjLand              -0.014289               1.000000   \n",
       "SaleCondition_Alloca               -0.024817              -0.004772   \n",
       "SaleCondition_Family               -0.032128              -0.006177   \n",
       "SaleCondition_Normal               -0.582947              -0.112080   \n",
       "SaleCondition_Partial              -0.083419              -0.016038   \n",
       "\n",
       "                       SaleCondition_Alloca  SaleCondition_Family  \\\n",
       "MSSubClass                         0.030002              0.000983   \n",
       "LotArea                            0.008966             -0.010781   \n",
       "OverallQual                       -0.044950             -0.025515   \n",
       "OverallCond                       -0.033444             -0.023873   \n",
       "YearBuilt                         -0.010104             -0.035785   \n",
       "...                                     ...                   ...   \n",
       "SaleCondition_AdjLand             -0.004772             -0.006177   \n",
       "SaleCondition_Alloca               1.000000             -0.010729   \n",
       "SaleCondition_Family              -0.010729              1.000000   \n",
       "SaleCondition_Normal              -0.194663             -0.252006   \n",
       "SaleCondition_Partial             -0.027856             -0.036062   \n",
       "\n",
       "                       SaleCondition_Normal  SaleCondition_Partial  \n",
       "MSSubClass                         0.024359              -0.051068  \n",
       "LotArea                            0.005711               0.022635  \n",
       "OverallQual                       -0.143282               0.323295  \n",
       "OverallCond                        0.161642              -0.151659  \n",
       "YearBuilt                         -0.158427               0.343895  \n",
       "...                                     ...                    ...  \n",
       "SaleCondition_AdjLand             -0.112080              -0.016038  \n",
       "SaleCondition_Alloca              -0.194663              -0.027856  \n",
       "SaleCondition_Family              -0.252006              -0.036062  \n",
       "SaleCondition_Normal               1.000000              -0.654323  \n",
       "SaleCondition_Partial             -0.654323               1.000000  \n",
       "\n",
       "[215 rows x 215 columns]"
      ]
     },
     "execution_count": 17,
     "metadata": {},
     "output_type": "execute_result"
    }
   ],
   "source": [
    "#  correlation \n",
    "X.corr()"
   ]
  },
  {
   "cell_type": "code",
   "execution_count": 18,
   "id": "e26f1a88",
   "metadata": {},
   "outputs": [],
   "source": [
    "# we will wirte a function through which we can select highly correlated features. \n",
    "# function code for correlation \n",
    "\n",
    "def correlation(dataset, threshold):\n",
    "    cols_having_high_correlation= set()\n",
    "    corr_matrix= X.corr()\n",
    "    for i in range(len(corr_matrix.columns)):\n",
    "        for j in range(i):\n",
    "            if abs(corr_matrix.iloc[i,j]) > threshold:\n",
    "                colname= corr_matrix.columns[i]\n",
    "                cols_having_high_correlation.add(colname)\n",
    "    return cols_having_high_correlation      \n",
    "    \n",
    "    "
   ]
  },
  {
   "cell_type": "code",
   "execution_count": 19,
   "id": "640244f9",
   "metadata": {},
   "outputs": [
    {
     "data": {
      "text/plain": [
       "84"
      ]
     },
     "execution_count": 19,
     "metadata": {},
     "output_type": "execute_result"
    }
   ],
   "source": [
    "correlated_Columns= correlation(X, 0.4)\n",
    "len(correlated_Columns)"
   ]
  },
  {
   "cell_type": "code",
   "execution_count": 20,
   "id": "d5bc055b",
   "metadata": {},
   "outputs": [
    {
     "data": {
      "text/plain": [
       "{'1stFlrSF',\n",
       " 'BedroomAbvGr',\n",
       " 'BldgType_1Fam',\n",
       " 'BldgType_2fmCon',\n",
       " 'BldgType_Duplex',\n",
       " 'BldgType_Twnhs',\n",
       " 'BldgType_TwnhsE',\n",
       " 'BsmtFullBath',\n",
       " 'BsmtUnfSF',\n",
       " 'CentralAir_N',\n",
       " 'CentralAir_Y',\n",
       " 'Condition1_Norm',\n",
       " 'Condition2_Norm',\n",
       " 'Condition2_RRAe',\n",
       " 'ExterCond_Ex',\n",
       " 'ExterCond_TA',\n",
       " 'ExterQual_Ex',\n",
       " 'ExterQual_Gd',\n",
       " 'ExterQual_TA',\n",
       " 'Exterior1st_CemntBd',\n",
       " 'Exterior1st_VinylSd',\n",
       " 'Exterior1st_Wd Sdng',\n",
       " 'Exterior2nd_AsbShng',\n",
       " 'Exterior2nd_AsphShn',\n",
       " 'Exterior2nd_Brk Cmn',\n",
       " 'Exterior2nd_BrkFace',\n",
       " 'Exterior2nd_CBlock',\n",
       " 'Exterior2nd_CmentBd',\n",
       " 'Exterior2nd_HdBoard',\n",
       " 'Exterior2nd_MetalSd',\n",
       " 'Exterior2nd_Plywood',\n",
       " 'Exterior2nd_Stucco',\n",
       " 'Exterior2nd_VinylSd',\n",
       " 'Exterior2nd_Wd Sdng',\n",
       " 'Exterior2nd_Wd Shng',\n",
       " 'Fireplaces',\n",
       " 'Foundation_BrkTil',\n",
       " 'Foundation_CBlock',\n",
       " 'Foundation_PConc',\n",
       " 'FullBath',\n",
       " 'Functional_Typ',\n",
       " 'GarageArea',\n",
       " 'GarageCars',\n",
       " 'GrLivArea',\n",
       " 'HalfBath',\n",
       " 'HeatingQC_Ex',\n",
       " 'HeatingQC_Gd',\n",
       " 'HeatingQC_TA',\n",
       " 'Heating_GasW',\n",
       " 'Heating_Grav',\n",
       " 'Heating_Wall',\n",
       " 'HouseStyle_1Story',\n",
       " 'HouseStyle_2.5Fin',\n",
       " 'HouseStyle_2Story',\n",
       " 'KitchenQual_Ex',\n",
       " 'KitchenQual_Gd',\n",
       " 'KitchenQual_TA',\n",
       " 'LandContour_Lvl',\n",
       " 'LandSlope_Gtl',\n",
       " 'LandSlope_Mod',\n",
       " 'LandSlope_Sev',\n",
       " 'LotConfig_Inside',\n",
       " 'LotShape_Reg',\n",
       " 'MSZoning_RL',\n",
       " 'MSZoning_RM',\n",
       " 'Neighborhood_IDOTRR',\n",
       " 'Neighborhood_OldTown',\n",
       " 'Neighborhood_Somerst',\n",
       " 'PavedDrive_Y',\n",
       " 'RoofMatl_CompShg',\n",
       " 'RoofMatl_Tar&Grv',\n",
       " 'RoofMatl_WdShake',\n",
       " 'RoofMatl_WdShngl',\n",
       " 'RoofStyle_Hip',\n",
       " 'RoofStyle_Shed',\n",
       " 'SaleCondition_Normal',\n",
       " 'SaleCondition_Partial',\n",
       " 'SaleType_WD',\n",
       " 'Street_Pave',\n",
       " 'TotRmsAbvGrd',\n",
       " 'TotalBsmtSF',\n",
       " 'Utilities_NoSeWa',\n",
       " 'YearBuilt',\n",
       " 'YearRemodAdd'}"
      ]
     },
     "execution_count": 20,
     "metadata": {},
     "output_type": "execute_result"
    }
   ],
   "source": [
    "#  these are the ones which are highly correlated\n",
    "correlated_Columns"
   ]
  },
  {
   "cell_type": "code",
   "execution_count": 21,
   "id": "d32eb4c3",
   "metadata": {},
   "outputs": [],
   "source": [
    "#  these 84 columns are unneccesary columns so just drop them from my X\n",
    "X.drop(correlated_Columns, axis=1, inplace= True)"
   ]
  },
  {
   "cell_type": "code",
   "execution_count": 22,
   "id": "fa6a1e02",
   "metadata": {},
   "outputs": [
    {
     "data": {
      "text/plain": [
       "((1460, 131), (1460,))"
      ]
     },
     "execution_count": 22,
     "metadata": {},
     "output_type": "execute_result"
    }
   ],
   "source": [
    "X.shape, Y.shape"
   ]
  },
  {
   "cell_type": "code",
   "execution_count": 23,
   "id": "1f812647",
   "metadata": {},
   "outputs": [
    {
     "name": "stdout",
     "output_type": "stream",
     "text": [
      "<class 'pandas.core.frame.DataFrame'>\n",
      "RangeIndex: 1460 entries, 0 to 1459\n",
      "Columns: 131 entries, MSSubClass to SaleCondition_Family\n",
      "dtypes: int64(19), uint8(112)\n",
      "memory usage: 376.5 KB\n"
     ]
    }
   ],
   "source": [
    "X.info()"
   ]
  },
  {
   "cell_type": "code",
   "execution_count": 24,
   "id": "625e6d2b",
   "metadata": {},
   "outputs": [
    {
     "data": {
      "text/html": [
       "<div>\n",
       "<style scoped>\n",
       "    .dataframe tbody tr th:only-of-type {\n",
       "        vertical-align: middle;\n",
       "    }\n",
       "\n",
       "    .dataframe tbody tr th {\n",
       "        vertical-align: top;\n",
       "    }\n",
       "\n",
       "    .dataframe thead th {\n",
       "        text-align: right;\n",
       "    }\n",
       "</style>\n",
       "<table border=\"1\" class=\"dataframe\">\n",
       "  <thead>\n",
       "    <tr style=\"text-align: right;\">\n",
       "      <th></th>\n",
       "      <th>MSSubClass</th>\n",
       "      <th>LotArea</th>\n",
       "      <th>OverallQual</th>\n",
       "      <th>OverallCond</th>\n",
       "      <th>BsmtFinSF1</th>\n",
       "      <th>BsmtFinSF2</th>\n",
       "      <th>2ndFlrSF</th>\n",
       "      <th>LowQualFinSF</th>\n",
       "      <th>BsmtHalfBath</th>\n",
       "      <th>KitchenAbvGr</th>\n",
       "      <th>...</th>\n",
       "      <th>SaleType_Con</th>\n",
       "      <th>SaleType_ConLD</th>\n",
       "      <th>SaleType_ConLI</th>\n",
       "      <th>SaleType_ConLw</th>\n",
       "      <th>SaleType_New</th>\n",
       "      <th>SaleType_Oth</th>\n",
       "      <th>SaleCondition_Abnorml</th>\n",
       "      <th>SaleCondition_AdjLand</th>\n",
       "      <th>SaleCondition_Alloca</th>\n",
       "      <th>SaleCondition_Family</th>\n",
       "    </tr>\n",
       "  </thead>\n",
       "  <tbody>\n",
       "    <tr>\n",
       "      <th>1458</th>\n",
       "      <td>20</td>\n",
       "      <td>9717</td>\n",
       "      <td>5</td>\n",
       "      <td>6</td>\n",
       "      <td>49</td>\n",
       "      <td>1029</td>\n",
       "      <td>0</td>\n",
       "      <td>0</td>\n",
       "      <td>0</td>\n",
       "      <td>1</td>\n",
       "      <td>...</td>\n",
       "      <td>0</td>\n",
       "      <td>0</td>\n",
       "      <td>0</td>\n",
       "      <td>0</td>\n",
       "      <td>0</td>\n",
       "      <td>0</td>\n",
       "      <td>0</td>\n",
       "      <td>0</td>\n",
       "      <td>0</td>\n",
       "      <td>0</td>\n",
       "    </tr>\n",
       "    <tr>\n",
       "      <th>1459</th>\n",
       "      <td>20</td>\n",
       "      <td>9937</td>\n",
       "      <td>5</td>\n",
       "      <td>6</td>\n",
       "      <td>830</td>\n",
       "      <td>290</td>\n",
       "      <td>0</td>\n",
       "      <td>0</td>\n",
       "      <td>0</td>\n",
       "      <td>1</td>\n",
       "      <td>...</td>\n",
       "      <td>0</td>\n",
       "      <td>0</td>\n",
       "      <td>0</td>\n",
       "      <td>0</td>\n",
       "      <td>0</td>\n",
       "      <td>0</td>\n",
       "      <td>0</td>\n",
       "      <td>0</td>\n",
       "      <td>0</td>\n",
       "      <td>0</td>\n",
       "    </tr>\n",
       "  </tbody>\n",
       "</table>\n",
       "<p>2 rows × 131 columns</p>\n",
       "</div>"
      ],
      "text/plain": [
       "      MSSubClass  LotArea  OverallQual  OverallCond  BsmtFinSF1  BsmtFinSF2  \\\n",
       "1458          20     9717            5            6          49        1029   \n",
       "1459          20     9937            5            6         830         290   \n",
       "\n",
       "      2ndFlrSF  LowQualFinSF  BsmtHalfBath  KitchenAbvGr  ...  SaleType_Con  \\\n",
       "1458         0             0             0             1  ...             0   \n",
       "1459         0             0             0             1  ...             0   \n",
       "\n",
       "      SaleType_ConLD  SaleType_ConLI  SaleType_ConLw  SaleType_New  \\\n",
       "1458               0               0               0             0   \n",
       "1459               0               0               0             0   \n",
       "\n",
       "      SaleType_Oth  SaleCondition_Abnorml  SaleCondition_AdjLand  \\\n",
       "1458             0                      0                      0   \n",
       "1459             0                      0                      0   \n",
       "\n",
       "      SaleCondition_Alloca  SaleCondition_Family  \n",
       "1458                     0                     0  \n",
       "1459                     0                     0  \n",
       "\n",
       "[2 rows x 131 columns]"
      ]
     },
     "execution_count": 24,
     "metadata": {},
     "output_type": "execute_result"
    }
   ],
   "source": [
    "X.tail(2)"
   ]
  },
  {
   "cell_type": "code",
   "execution_count": 25,
   "id": "45c3cf16",
   "metadata": {},
   "outputs": [
    {
     "data": {
      "text/plain": [
       "VarianceThreshold(threshold=0.1)"
      ]
     },
     "execution_count": 25,
     "metadata": {},
     "output_type": "execute_result"
    }
   ],
   "source": [
    "#  I still have 131 columns in the df. So will now check the constant features and remove them from df\n",
    "\n",
    "from sklearn.feature_selection import VarianceThreshold\n",
    "var_thresh= VarianceThreshold(threshold=0.10)\n",
    "var_thresh.fit(X)"
   ]
  },
  {
   "cell_type": "code",
   "execution_count": 26,
   "id": "2ef4e813",
   "metadata": {},
   "outputs": [
    {
     "data": {
      "text/plain": [
       "array([ True,  True,  True,  True,  True,  True,  True,  True, False,\n",
       "       False,  True,  True,  True,  True,  True,  True,  True,  True,\n",
       "        True, False, False, False, False,  True, False, False, False,\n",
       "       False, False, False,  True, False, False, False, False, False,\n",
       "       False, False, False, False, False, False, False, False, False,\n",
       "        True, False, False, False, False, False, False, False, False,\n",
       "       False, False, False, False, False, False, False, False, False,\n",
       "       False, False, False, False, False, False, False, False, False,\n",
       "       False, False, False, False,  True, False, False, False, False,\n",
       "       False, False, False, False, False, False, False,  True, False,\n",
       "        True, False, False, False, False, False, False, False, False,\n",
       "       False, False, False, False, False, False, False, False, False,\n",
       "       False, False, False, False, False, False, False, False, False,\n",
       "       False, False, False, False, False, False, False, False, False,\n",
       "       False, False, False, False, False])"
      ]
     },
     "execution_count": 26,
     "metadata": {},
     "output_type": "execute_result"
    }
   ],
   "source": [
    "#  to know which are my good variance features will apply get_support function\n",
    "\n",
    "var_thresh.get_support()"
   ]
  },
  {
   "cell_type": "code",
   "execution_count": 27,
   "id": "ec1ae662",
   "metadata": {},
   "outputs": [],
   "source": [
    "nonconstant_col=  X.columns[var_thresh.get_support()==True]"
   ]
  },
  {
   "cell_type": "code",
   "execution_count": 28,
   "id": "a0b6a3a8",
   "metadata": {},
   "outputs": [],
   "source": [
    "constant_col= X.columns[var_thresh.get_support() == False]"
   ]
  },
  {
   "cell_type": "code",
   "execution_count": 29,
   "id": "65b4d47e",
   "metadata": {},
   "outputs": [
    {
     "data": {
      "text/plain": [
       "Index(['MSSubClass', 'LotArea', 'OverallQual', 'OverallCond', 'BsmtFinSF1',\n",
       "       'BsmtFinSF2', '2ndFlrSF', 'LowQualFinSF', 'WoodDeckSF', 'OpenPorchSF',\n",
       "       'EnclosedPorch', '3SsnPorch', 'ScreenPorch', 'PoolArea', 'MiscVal',\n",
       "       'MoSold', 'YrSold', 'LotShape_IR1', 'LotConfig_Corner',\n",
       "       'Neighborhood_NAmes', 'RoofStyle_Gable', 'Exterior1st_HdBoard',\n",
       "       'Exterior1st_MetalSd'],\n",
       "      dtype='object')"
      ]
     },
     "execution_count": 29,
     "metadata": {},
     "output_type": "execute_result"
    }
   ],
   "source": [
    "nonconstant_col                 # these are above the threshold and are good colmns further.. "
   ]
  },
  {
   "cell_type": "code",
   "execution_count": 30,
   "id": "febc5997",
   "metadata": {},
   "outputs": [
    {
     "data": {
      "text/plain": [
       "Index(['BsmtHalfBath', 'KitchenAbvGr', 'MSZoning_C (all)', 'MSZoning_FV',\n",
       "       'MSZoning_RH', 'Street_Grvl', 'LotShape_IR2', 'LotShape_IR3',\n",
       "       'LandContour_Bnk', 'LandContour_HLS',\n",
       "       ...\n",
       "       'SaleType_Con', 'SaleType_ConLD', 'SaleType_ConLI', 'SaleType_ConLw',\n",
       "       'SaleType_New', 'SaleType_Oth', 'SaleCondition_Abnorml',\n",
       "       'SaleCondition_AdjLand', 'SaleCondition_Alloca',\n",
       "       'SaleCondition_Family'],\n",
       "      dtype='object', length=108)"
      ]
     },
     "execution_count": 30,
     "metadata": {},
     "output_type": "execute_result"
    }
   ],
   "source": [
    "constant_col           # these are the ones below the threshold which may not be needed further as they are constant and doesnt have much contribution"
   ]
  },
  {
   "cell_type": "code",
   "execution_count": 31,
   "id": "d58c5cd4",
   "metadata": {},
   "outputs": [
    {
     "data": {
      "text/plain": [
       "(23, 108)"
      ]
     },
     "execution_count": 31,
     "metadata": {},
     "output_type": "execute_result"
    }
   ],
   "source": [
    "len(nonconstant_col), len(constant_col)    # now i got my good columns reduced to 23 from 131"
   ]
  },
  {
   "cell_type": "code",
   "execution_count": 32,
   "id": "52dae15b",
   "metadata": {},
   "outputs": [],
   "source": [
    "new_df= X.drop(constant_col, axis=1)          # droped my constant cols "
   ]
  },
  {
   "cell_type": "code",
   "execution_count": 33,
   "id": "670bb49a",
   "metadata": {},
   "outputs": [],
   "source": [
    "new_df['SalePrice']= Y"
   ]
  },
  {
   "cell_type": "code",
   "execution_count": 34,
   "id": "93f61660",
   "metadata": {},
   "outputs": [
    {
     "data": {
      "text/plain": [
       "Index(['MSSubClass', 'LotArea', 'OverallQual', 'OverallCond', 'BsmtFinSF1',\n",
       "       'BsmtFinSF2', '2ndFlrSF', 'LowQualFinSF', 'WoodDeckSF', 'OpenPorchSF',\n",
       "       'EnclosedPorch', '3SsnPorch', 'ScreenPorch', 'PoolArea', 'MiscVal',\n",
       "       'MoSold', 'YrSold', 'LotShape_IR1', 'LotConfig_Corner',\n",
       "       'Neighborhood_NAmes', 'RoofStyle_Gable', 'Exterior1st_HdBoard',\n",
       "       'Exterior1st_MetalSd', 'SalePrice'],\n",
       "      dtype='object')"
      ]
     },
     "execution_count": 34,
     "metadata": {},
     "output_type": "execute_result"
    }
   ],
   "source": [
    "#  this is my new df with all important columns ready\n",
    "new_df.columns"
   ]
  },
  {
   "cell_type": "code",
   "execution_count": 35,
   "id": "ec5175d9",
   "metadata": {},
   "outputs": [
    {
     "data": {
      "text/html": [
       "<div>\n",
       "<style scoped>\n",
       "    .dataframe tbody tr th:only-of-type {\n",
       "        vertical-align: middle;\n",
       "    }\n",
       "\n",
       "    .dataframe tbody tr th {\n",
       "        vertical-align: top;\n",
       "    }\n",
       "\n",
       "    .dataframe thead th {\n",
       "        text-align: right;\n",
       "    }\n",
       "</style>\n",
       "<table border=\"1\" class=\"dataframe\">\n",
       "  <thead>\n",
       "    <tr style=\"text-align: right;\">\n",
       "      <th></th>\n",
       "      <th>MSSubClass</th>\n",
       "      <th>LotArea</th>\n",
       "      <th>OverallQual</th>\n",
       "      <th>OverallCond</th>\n",
       "      <th>BsmtFinSF1</th>\n",
       "      <th>BsmtFinSF2</th>\n",
       "      <th>2ndFlrSF</th>\n",
       "      <th>LowQualFinSF</th>\n",
       "      <th>WoodDeckSF</th>\n",
       "      <th>OpenPorchSF</th>\n",
       "      <th>...</th>\n",
       "      <th>MiscVal</th>\n",
       "      <th>MoSold</th>\n",
       "      <th>YrSold</th>\n",
       "      <th>LotShape_IR1</th>\n",
       "      <th>LotConfig_Corner</th>\n",
       "      <th>Neighborhood_NAmes</th>\n",
       "      <th>RoofStyle_Gable</th>\n",
       "      <th>Exterior1st_HdBoard</th>\n",
       "      <th>Exterior1st_MetalSd</th>\n",
       "      <th>SalePrice</th>\n",
       "    </tr>\n",
       "  </thead>\n",
       "  <tbody>\n",
       "    <tr>\n",
       "      <th>0</th>\n",
       "      <td>60</td>\n",
       "      <td>8450</td>\n",
       "      <td>7</td>\n",
       "      <td>5</td>\n",
       "      <td>706</td>\n",
       "      <td>0</td>\n",
       "      <td>854</td>\n",
       "      <td>0</td>\n",
       "      <td>0</td>\n",
       "      <td>61</td>\n",
       "      <td>...</td>\n",
       "      <td>0</td>\n",
       "      <td>2</td>\n",
       "      <td>2008</td>\n",
       "      <td>0</td>\n",
       "      <td>0</td>\n",
       "      <td>0</td>\n",
       "      <td>1</td>\n",
       "      <td>0</td>\n",
       "      <td>0</td>\n",
       "      <td>208500</td>\n",
       "    </tr>\n",
       "    <tr>\n",
       "      <th>1</th>\n",
       "      <td>20</td>\n",
       "      <td>9600</td>\n",
       "      <td>6</td>\n",
       "      <td>8</td>\n",
       "      <td>978</td>\n",
       "      <td>0</td>\n",
       "      <td>0</td>\n",
       "      <td>0</td>\n",
       "      <td>298</td>\n",
       "      <td>0</td>\n",
       "      <td>...</td>\n",
       "      <td>0</td>\n",
       "      <td>5</td>\n",
       "      <td>2007</td>\n",
       "      <td>0</td>\n",
       "      <td>0</td>\n",
       "      <td>0</td>\n",
       "      <td>1</td>\n",
       "      <td>0</td>\n",
       "      <td>1</td>\n",
       "      <td>181500</td>\n",
       "    </tr>\n",
       "  </tbody>\n",
       "</table>\n",
       "<p>2 rows × 24 columns</p>\n",
       "</div>"
      ],
      "text/plain": [
       "   MSSubClass  LotArea  OverallQual  OverallCond  BsmtFinSF1  BsmtFinSF2  \\\n",
       "0          60     8450            7            5         706           0   \n",
       "1          20     9600            6            8         978           0   \n",
       "\n",
       "   2ndFlrSF  LowQualFinSF  WoodDeckSF  OpenPorchSF  ...  MiscVal  MoSold  \\\n",
       "0       854             0           0           61  ...        0       2   \n",
       "1         0             0         298            0  ...        0       5   \n",
       "\n",
       "   YrSold  LotShape_IR1  LotConfig_Corner  Neighborhood_NAmes  \\\n",
       "0    2008             0                 0                   0   \n",
       "1    2007             0                 0                   0   \n",
       "\n",
       "   RoofStyle_Gable  Exterior1st_HdBoard  Exterior1st_MetalSd  SalePrice  \n",
       "0                1                    0                    0     208500  \n",
       "1                1                    0                    1     181500  \n",
       "\n",
       "[2 rows x 24 columns]"
      ]
     },
     "execution_count": 35,
     "metadata": {},
     "output_type": "execute_result"
    }
   ],
   "source": [
    "new_df.head(2)"
   ]
  },
  {
   "cell_type": "code",
   "execution_count": 36,
   "id": "12de9e52",
   "metadata": {},
   "outputs": [
    {
     "data": {
      "text/plain": [
       "24"
      ]
     },
     "execution_count": 36,
     "metadata": {},
     "output_type": "execute_result"
    }
   ],
   "source": [
    "len(new_df.columns)             # in ow have 24 good columns"
   ]
  },
  {
   "cell_type": "code",
   "execution_count": 37,
   "id": "c91f0813",
   "metadata": {},
   "outputs": [
    {
     "name": "stdout",
     "output_type": "stream",
     "text": [
      "<class 'pandas.core.frame.DataFrame'>\n",
      "RangeIndex: 1460 entries, 0 to 1459\n",
      "Data columns (total 24 columns):\n",
      " #   Column               Non-Null Count  Dtype\n",
      "---  ------               --------------  -----\n",
      " 0   MSSubClass           1460 non-null   int64\n",
      " 1   LotArea              1460 non-null   int64\n",
      " 2   OverallQual          1460 non-null   int64\n",
      " 3   OverallCond          1460 non-null   int64\n",
      " 4   BsmtFinSF1           1460 non-null   int64\n",
      " 5   BsmtFinSF2           1460 non-null   int64\n",
      " 6   2ndFlrSF             1460 non-null   int64\n",
      " 7   LowQualFinSF         1460 non-null   int64\n",
      " 8   WoodDeckSF           1460 non-null   int64\n",
      " 9   OpenPorchSF          1460 non-null   int64\n",
      " 10  EnclosedPorch        1460 non-null   int64\n",
      " 11  3SsnPorch            1460 non-null   int64\n",
      " 12  ScreenPorch          1460 non-null   int64\n",
      " 13  PoolArea             1460 non-null   int64\n",
      " 14  MiscVal              1460 non-null   int64\n",
      " 15  MoSold               1460 non-null   int64\n",
      " 16  YrSold               1460 non-null   int64\n",
      " 17  LotShape_IR1         1460 non-null   uint8\n",
      " 18  LotConfig_Corner     1460 non-null   uint8\n",
      " 19  Neighborhood_NAmes   1460 non-null   uint8\n",
      " 20  RoofStyle_Gable      1460 non-null   uint8\n",
      " 21  Exterior1st_HdBoard  1460 non-null   uint8\n",
      " 22  Exterior1st_MetalSd  1460 non-null   uint8\n",
      " 23  SalePrice            1460 non-null   int64\n",
      "dtypes: int64(18), uint8(6)\n",
      "memory usage: 214.0 KB\n"
     ]
    }
   ],
   "source": [
    "new_df.info()"
   ]
  },
  {
   "cell_type": "code",
   "execution_count": 38,
   "id": "0df4f137",
   "metadata": {},
   "outputs": [],
   "source": [
    "#  now will divide my X and Y variables \n",
    "X= new_df.drop(['SalePrice', 'MiscVal','2ndFlrSF', '3SsnPorch'], axis=1)\n",
    "Y= new_df['SalePrice']"
   ]
  },
  {
   "cell_type": "code",
   "execution_count": 39,
   "id": "633d60f1",
   "metadata": {},
   "outputs": [
    {
     "data": {
      "text/plain": [
       "((1460, 20), (1460,))"
      ]
     },
     "execution_count": 39,
     "metadata": {},
     "output_type": "execute_result"
    }
   ],
   "source": [
    "X.shape, Y.shape"
   ]
  },
  {
   "cell_type": "code",
   "execution_count": 40,
   "id": "c49efc45",
   "metadata": {},
   "outputs": [
    {
     "data": {
      "text/plain": [
       "array([[ 0.07337496, -0.20714171,  0.65147924, -0.51719981,  0.57542484,\n",
       "        -0.28865283, -0.12024172, -0.75217584,  0.21650316, -0.3593249 ,\n",
       "        -0.27020835, -0.06869175, -1.5991111 ,  0.13877749, -0.70420284,\n",
       "        -0.46873869, -0.42683279,  0.5287526 , -0.42346368, -0.42121177],\n",
       "       [-0.87256276, -0.09188637, -0.07183611,  2.17962776,  1.17199212,\n",
       "        -0.28865283, -0.12024172,  1.62619479, -0.70448325, -0.3593249 ,\n",
       "        -0.27020835, -0.06869175, -0.48911005, -0.61443862, -0.70420284,\n",
       "        -0.46873869, -0.42683279,  0.5287526 , -0.42346368,  2.3741027 ],\n",
       "       [ 0.07337496,  0.07347998,  0.65147924, -0.51719981,  0.09290718,\n",
       "        -0.28865283, -0.12024172, -0.75217584, -0.07036146, -0.3593249 ,\n",
       "        -0.27020835, -0.06869175,  0.99089135,  0.13877749,  1.4200454 ,\n",
       "        -0.46873869, -0.42683279,  0.5287526 , -0.42346368, -0.42121177],\n",
       "       [ 0.30985939, -0.09689747,  0.65147924, -0.51719981, -0.49927358,\n",
       "        -0.28865283, -0.12024172, -0.75217584, -0.17604842,  4.09252374,\n",
       "        -0.27020835, -0.06869175, -1.5991111 , -1.36765473,  1.4200454 ,\n",
       "         2.13338482, -0.42683279,  0.5287526 , -0.42346368, -0.42121177],\n",
       "       [ 0.07337496,  0.37514829,  1.3747946 , -0.51719981,  0.46356847,\n",
       "        -0.28865283, -0.12024172,  0.78019719,  0.56376033, -0.3593249 ,\n",
       "        -0.27020835, -0.06869175,  2.10089239,  0.13877749,  1.4200454 ,\n",
       "        -0.46873869, -0.42683279,  0.5287526 , -0.42346368, -0.42121177]])"
      ]
     },
     "execution_count": 40,
     "metadata": {},
     "output_type": "execute_result"
    }
   ],
   "source": [
    "# will try to get similar range of values by scaling the data\n",
    "from sklearn.preprocessing import StandardScaler\n",
    "scaling_data= StandardScaler()\n",
    "scaled_X= scaling_data.fit_transform(X)\n",
    "scaled_X[:5]"
   ]
  },
  {
   "cell_type": "code",
   "execution_count": 41,
   "id": "c4b725f9",
   "metadata": {},
   "outputs": [],
   "source": [
    "#  train test\n",
    "from sklearn.model_selection import train_test_split\n",
    "X_train, X_test, Y_train, Y_test= train_test_split(scaled_X, Y, train_size=0.8)"
   ]
  },
  {
   "cell_type": "code",
   "execution_count": 42,
   "id": "aa671f39",
   "metadata": {},
   "outputs": [
    {
     "data": {
      "text/plain": [
       "((1168, 20), (292, 20))"
      ]
     },
     "execution_count": 42,
     "metadata": {},
     "output_type": "execute_result"
    }
   ],
   "source": [
    "X_train.shape, X_test.shape"
   ]
  },
  {
   "cell_type": "code",
   "execution_count": 43,
   "id": "fc75f723",
   "metadata": {},
   "outputs": [
    {
     "data": {
      "text/plain": [
       "LinearRegression()"
      ]
     },
     "execution_count": 43,
     "metadata": {},
     "output_type": "execute_result"
    }
   ],
   "source": [
    "# fit mulitilinear algorithm\n",
    "from sklearn.linear_model import LinearRegression \n",
    "LRm= LinearRegression()\n",
    "LRm.fit(X_train,Y_train)"
   ]
  },
  {
   "cell_type": "code",
   "execution_count": 44,
   "id": "8a28cdda",
   "metadata": {},
   "outputs": [],
   "source": [
    "Y_pred= LRm.predict(X_test)"
   ]
  },
  {
   "cell_type": "code",
   "execution_count": 45,
   "id": "84cecc50",
   "metadata": {},
   "outputs": [],
   "source": [
    "from sklearn.metrics import r2_score, mean_squared_error\n",
    "LRm_accuracy= r2_score(Y_test, Y_pred)\n",
    "mse1= mean_squared_error(Y_test, Y_pred)"
   ]
  },
  {
   "cell_type": "code",
   "execution_count": 46,
   "id": "1b3f7b86",
   "metadata": {},
   "outputs": [
    {
     "name": "stdout",
     "output_type": "stream",
     "text": [
      "By implementing Linear Regression model acheived accuracy of : 0.6930217291001616 with mean squred error as: 2296468633.7141166\n"
     ]
    }
   ],
   "source": [
    "print(f\"By implementing Linear Regression model acheived accuracy of : {LRm_accuracy} with mean squred error as: {mse1}\")"
   ]
  },
  {
   "cell_type": "markdown",
   "id": "1c9d542d",
   "metadata": {},
   "source": [
    "# ✔ The accuracy with multiple linear Regression is 69%"
   ]
  },
  {
   "cell_type": "code",
   "execution_count": 47,
   "id": "a3387496",
   "metadata": {},
   "outputs": [],
   "source": [
    "# Now i will implement random Forest Regressor "
   ]
  },
  {
   "cell_type": "code",
   "execution_count": 48,
   "id": "0f565b35",
   "metadata": {},
   "outputs": [
    {
     "data": {
      "text/plain": [
       "((1460, 20), (1460,))"
      ]
     },
     "execution_count": 48,
     "metadata": {},
     "output_type": "execute_result"
    }
   ],
   "source": [
    "scaled_X.shape, Y.shape"
   ]
  },
  {
   "cell_type": "code",
   "execution_count": 49,
   "id": "0cf011ae",
   "metadata": {},
   "outputs": [],
   "source": [
    "xtrain, xtest, ytrain, ytest= train_test_split(scaled_X, Y, test_size=0.2)"
   ]
  },
  {
   "cell_type": "code",
   "execution_count": 50,
   "id": "607e2e84",
   "metadata": {},
   "outputs": [
    {
     "data": {
      "text/plain": [
       "RandomForestRegressor()"
      ]
     },
     "execution_count": 50,
     "metadata": {},
     "output_type": "execute_result"
    }
   ],
   "source": [
    "from sklearn.ensemble import RandomForestRegressor\n",
    "RFr= RandomForestRegressor()               # will initialze the model\n",
    "\n",
    "RFr.fit(xtrain, ytrain)                   # will train the model"
   ]
  },
  {
   "cell_type": "code",
   "execution_count": 51,
   "id": "008b564b",
   "metadata": {},
   "outputs": [],
   "source": [
    "ypred= RFr.predict(xtest)"
   ]
  },
  {
   "cell_type": "code",
   "execution_count": 52,
   "id": "bdec1ba3",
   "metadata": {},
   "outputs": [
    {
     "name": "stdout",
     "output_type": "stream",
     "text": [
      "accuracy with Random Forest Regressor: 0.7311012701111648\n"
     ]
    }
   ],
   "source": [
    "print(f\"accuracy with Random Forest Regressor: {r2_score(ytest,ypred)}\")"
   ]
  },
  {
   "cell_type": "code",
   "execution_count": 53,
   "id": "5fcfac75",
   "metadata": {},
   "outputs": [
    {
     "data": {
      "image/png": "[encoded data removed]",
      "text/plain": [
       "<Figure size 432x288 with 1 Axes>"
      ]
     },
     "metadata": {
      "needs_background": "light"
     },
     "output_type": "display_data"
    }
   ],
   "source": [
    "#  lets see the plot\n",
    "import matplotlib.pyplot as plt\n",
    "yaxis= range(len(ytest))\n",
    "plt.plot(yaxis, ytest, label= \"Actual values\")\n",
    "plt.plot(yaxis, ypred, label= \"Predicted values\")\n",
    "plt.title(\"Housing data\")\n",
    "plt.legend()\n",
    "plt.show()"
   ]
  },
  {
   "cell_type": "markdown",
   "id": "13db3ff8",
   "metadata": {},
   "source": [
    "# ✔ here I see there is a significant difference in accuracy when used Random Forest regressor. The accuarcy is 73% \n",
    " "
   ]
  },
  {
   "cell_type": "markdown",
   "id": "f2df23e6",
   "metadata": {},
   "source": [
    "# Will now implement XGB Regressor"
   ]
  },
  {
   "cell_type": "code",
   "execution_count": 55,
   "id": "a26450b6",
   "metadata": {},
   "outputs": [],
   "source": [
    "x_train, x_test, y_train, y_test= train_test_split(scaled_X, Y, train_size=0.8)"
   ]
  },
  {
   "cell_type": "code",
   "execution_count": 56,
   "id": "f77c1306",
   "metadata": {},
   "outputs": [],
   "source": [
    "import xgboost as xg\n",
    "# Instantiation             # initializing the model\n",
    "xgb_r = xg.XGBRegressor(n_estimators = 10, seed = 100)\n",
    "\n"
   ]
  },
  {
   "cell_type": "code",
   "execution_count": 57,
   "id": "377bd5b7",
   "metadata": {},
   "outputs": [
    {
     "data": {
      "text/plain": [
       "XGBRegressor(base_score=0.5, booster='gbtree', callbacks=None,\n",
       "             colsample_bylevel=1, colsample_bynode=1, colsample_bytree=1,\n",
       "             early_stopping_rounds=None, enable_categorical=False,\n",
       "             eval_metric=None, gamma=0, gpu_id=-1, grow_policy='depthwise',\n",
       "             importance_type=None, interaction_constraints='',\n",
       "             learning_rate=0.300000012, max_bin=256, max_cat_to_onehot=4,\n",
       "             max_delta_step=0, max_depth=6, max_leaves=0, min_child_weight=1,\n",
       "             missing=nan, monotone_constraints='()', n_estimators=10, n_jobs=0,\n",
       "             num_parallel_tree=1, predictor='auto', random_state=100,\n",
       "             reg_alpha=0, reg_lambda=1, ...)"
      ]
     },
     "execution_count": 57,
     "metadata": {},
     "output_type": "execute_result"
    }
   ],
   "source": [
    "# fitting/training the model\n",
    "xgb_r.fit(x_train, y_train)"
   ]
  },
  {
   "cell_type": "code",
   "execution_count": 58,
   "id": "5559a2c3",
   "metadata": {},
   "outputs": [],
   "source": [
    "y_predi= xgb_r.predict(x_test)"
   ]
  },
  {
   "cell_type": "code",
   "execution_count": 63,
   "id": "121698f2",
   "metadata": {},
   "outputs": [
    {
     "name": "stdout",
     "output_type": "stream",
     "text": [
      "MSE: 1854919076.762168\n",
      "RMSE:  43068.771480\n"
     ]
    }
   ],
   "source": [
    "# MSE and RMSE Computation\n",
    "from sklearn.metrics import mean_squared_error as MSE\n",
    "import numpy as np\n",
    "\n",
    "mse= MSE(y_test, y_predi)\n",
    "rmse = np.sqrt(MSE(y_test, y_predi))\n",
    "print(\"MSE: %f\" %(mse))\n",
    "print(\"RMSE: % f\" %(rmse))"
   ]
  },
  {
   "cell_type": "code",
   "execution_count": 64,
   "id": "67b6361b",
   "metadata": {},
   "outputs": [
    {
     "data": {
      "text/plain": [
       "array([0.54578658, 0.61650588, 0.676694  , 0.56095753, 0.61466217])"
      ]
     },
     "execution_count": 64,
     "metadata": {},
     "output_type": "execute_result"
    }
   ],
   "source": [
    "# evaluation\n",
    "# cross_val_score always generates 5 scores with 5 different scenarios\n",
    "from sklearn.model_selection import cross_val_score\n",
    "\n",
    "score= cross_val_score(xgb_r, y_test, y_predi)\n",
    "score\n"
   ]
  },
  {
   "cell_type": "code",
   "execution_count": 65,
   "id": "6072efd0",
   "metadata": {},
   "outputs": [
    {
     "name": "stdout",
     "output_type": "stream",
     "text": [
      "accuracy with XGBoost Regressor: 0.6029212312602238\n"
     ]
    }
   ],
   "source": [
    "print(f\"accuracy with XGBoost Regressor: {score.mean()}\")"
   ]
  },
  {
   "cell_type": "markdown",
   "id": "258d917f",
   "metadata": {},
   "source": [
    "# ✔ when applied XGBoost Regressor i get 60% accuracy.\n",
    "\n",
    "# ✔ Conclusion: Multilinear, Random Forest and XGBoost regressors are good models predicting this housing dataset. "
   ]
  },
  {
   "cell_type": "code",
   "execution_count": null,
   "id": "2c59166c",
   "metadata": {},
   "outputs": [],
   "source": []
  }
 ],
 "metadata": {
  "kernelspec": {
   "display_name": "venvDL1",
   "language": "python",
   "name": "venvdl1"
  },
  "language_info": {
   "codemirror_mode": {
    "name": "ipython",
    "version": 3
   },
   "file_extension": ".py",
   "mimetype": "text/x-python",
   "name": "python",
   "nbconvert_exporter": "python",
   "pygments_lexer": "ipython3",
   "version": "3.9.7"
  }
 },
 "nbformat": 4,
 "nbformat_minor": 5
}
